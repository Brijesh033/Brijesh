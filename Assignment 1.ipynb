{
 "cells": [
  {
   "cell_type": "markdown",
   "metadata": {},
   "source": [
    "# Assignment 1"
   ]
  },
  {
   "cell_type": "markdown",
   "metadata": {},
   "source": [
    "# Task 1"
   ]
  },
  {
   "cell_type": "code",
   "execution_count": 1,
   "metadata": {},
   "outputs": [
    {
     "name": "stdout",
     "output_type": "stream",
     "text": [
      "[2002, 2009, 2016, 2023, 2037, 2044, 2051, 2058, 2072, 2079, 2086, 2093, 2107, 2114, 2121, 2128, 2142, 2149, 2156, 2163, 2177, 2184, 2191, 2198, 2212, 2219, 2226, 2233, 2247, 2254, 2261, 2268, 2282, 2289, 2296, 2303, 2317, 2324, 2331, 2338, 2352, 2359, 2366, 2373, 2387, 2394, 2401, 2408, 2422, 2429, 2436, 2443, 2457, 2464, 2471, 2478, 2492, 2499, 2506, 2513, 2527, 2534, 2541, 2548, 2562, 2569, 2576, 2583, 2597, 2604, 2611, 2618, 2632, 2639, 2646, 2653, 2667, 2674, 2681, 2688, 2702, 2709, 2716, 2723, 2737, 2744, 2751, 2758, 2772, 2779, 2786, 2793, 2807, 2814, 2821, 2828, 2842, 2849, 2856, 2863, 2877, 2884, 2891, 2898, 2912, 2919, 2926, 2933, 2947, 2954, 2961, 2968, 2982, 2989, 2996, 3003, 3017, 3024, 3031, 3038, 3052, 3059, 3066, 3073, 3087, 3094, 3101, 3108, 3122, 3129, 3136, 3143, 3157, 3164, 3171, 3178, 3192, 3199]\n"
     ]
    }
   ],
   "source": [
    "# 2\n",
    "num = range(2000,3201)\n",
    "\n",
    "lst = []\n",
    "for i in num:\n",
    "    if i%7 == 0 and i%5 != 0:\n",
    "        lst.append(i)\n",
    "print(lst)"
   ]
  },
  {
   "cell_type": "code",
   "execution_count": 2,
   "metadata": {},
   "outputs": [
    {
     "name": "stdout",
     "output_type": "stream",
     "text": [
      "Enter first name: Brijesh\n",
      "Enter last name: Prajapati\n",
      "hsejirB itapajarP\n"
     ]
    }
   ],
   "source": [
    "# 3\n",
    "name = input('Enter first name: ')\n",
    "last_name = input('Enter last name: ')\n",
    "\n",
    "lst = []\n",
    "count = len(name)\n",
    "while count > 0:\n",
    "    letter = name[count-1]\n",
    "    lst.append(letter)\n",
    "    count-=1\n",
    "delimeter = ''\n",
    "b = delimeter.join(lst)\n",
    "\n",
    "\n",
    "\n",
    "\n",
    "lst_1 = []\n",
    "c = len(last_name)\n",
    "while c > 0:\n",
    "    letter = last_name[c-1]\n",
    "    lst_1.append(letter)\n",
    "    c-=1\n",
    "delimeter = ''\n",
    "v = delimeter.join(lst_1)\n",
    "\n",
    "print(b + \" \" + v)"
   ]
  },
  {
   "cell_type": "code",
   "execution_count": 1,
   "metadata": {},
   "outputs": [
    {
     "name": "stdout",
     "output_type": "stream",
     "text": [
      "Enter first name: Brijesh Prajapati\n",
      "itapajarP hsejirB\n"
     ]
    }
   ],
   "source": [
    "# 3\n",
    "name = input('Enter first name: ')\n",
    "\n",
    "lst = []\n",
    "count = len(name)\n",
    "while count > 0:\n",
    "    letter = name[count-1]\n",
    "    lst.append(letter)\n",
    "    count-=1\n",
    "delimeter = ''\n",
    "b = delimeter.join(lst)\n",
    "print(b)"
   ]
  },
  {
   "cell_type": "code",
   "execution_count": 2,
   "metadata": {},
   "outputs": [
    {
     "name": "stdout",
     "output_type": "stream",
     "text": [
      "Enter first name: Brijesh Prajapati\n",
      "i\n",
      "t\n",
      "a\n",
      "p\n",
      "a\n",
      "j\n",
      "a\n",
      "r\n",
      "P\n",
      " \n",
      "h\n",
      "s\n",
      "e\n",
      "j\n",
      "i\n",
      "r\n",
      "B\n"
     ]
    }
   ],
   "source": [
    "# 3\n",
    "name = input('Enter first name: ')\n",
    "\n",
    "count = len(name)\n",
    "while count > 0:\n",
    "    letter = name[count-1]\n",
    "    print(letter)\n",
    "    count-=1"
   ]
  },
  {
   "cell_type": "code",
   "execution_count": 2,
   "metadata": {},
   "outputs": [
    {
     "name": "stdout",
     "output_type": "stream",
     "text": [
      "Enter diameter in cm.:12\n",
      "904.3199999999998\n"
     ]
    }
   ],
   "source": [
    "# 4\n",
    "d = float(input('Enter diameter in cm.:'))\n",
    "r = d/2\n",
    "volume_sphere = 4/3*3.14*r*r*r\n",
    "print(volume_sphere)"
   ]
  },
  {
   "cell_type": "markdown",
   "metadata": {},
   "source": [
    "# Task 2"
   ]
  },
  {
   "cell_type": "code",
   "execution_count": 4,
   "metadata": {},
   "outputs": [
    {
     "name": "stdout",
     "output_type": "stream",
     "text": [
      "Enter sequence of numbers:45,1,89,65,100,1523,07\n",
      "['45', '1', '89', '65', '100', '1523', '07']\n"
     ]
    }
   ],
   "source": [
    "# 1\n",
    "value = input('Enter sequence of numbers:')\n",
    "lst = value.split(',')\n",
    "print(lst)"
   ]
  },
  {
   "cell_type": "code",
   "execution_count": 2,
   "metadata": {},
   "outputs": [
    {
     "name": "stdout",
     "output_type": "stream",
     "text": [
      "*\n",
      "**\n",
      "***\n",
      "****\n",
      "*****\n",
      "****\n",
      "***\n",
      "**\n",
      "*\n"
     ]
    }
   ],
   "source": [
    "# 2\n",
    "for i in range(5):\n",
    "    for j in range(i+1):\n",
    "        print('*', end= '')\n",
    "    print()\n",
    "for i in range(4):\n",
    "    for j in range(4-i):\n",
    "        print('*', end = '')\n",
    "    print('')"
   ]
  },
  {
   "cell_type": "code",
   "execution_count": 7,
   "metadata": {},
   "outputs": [
    {
     "name": "stdout",
     "output_type": "stream",
     "text": [
      "dliGdacA\n"
     ]
    }
   ],
   "source": [
    "# 3\n",
    "s = 'AcadGild'\n",
    "\n",
    "lst = []\n",
    "count = len(s)\n",
    "while count > 0:\n",
    "    letter = s[count-1]\n",
    "    lst.append(letter)\n",
    "    count-=1\n",
    "delimeter = ''\n",
    "b = delimeter.join(lst)\n",
    "print(b)"
   ]
  },
  {
   "cell_type": "code",
   "execution_count": 8,
   "metadata": {},
   "outputs": [
    {
     "name": "stdout",
     "output_type": "stream",
     "text": [
      "WE, THE PEOPLE OF INDIA, \n",
      "             having solemnly resolved to constitute India into a SOVEREIGN,!\n",
      "                    SOCIALIST, SECULAR, DEMOCRATIC REPUBLIC \n",
      "                     and to secure to all its citizens\n"
     ]
    }
   ],
   "source": [
    "# 4\n",
    "s = \"\"\"WE, THE PEOPLE OF INDIA, \n",
    "             having solemnly resolved to constitute India into a SOVEREIGN,!\n",
    "                    SOCIALIST, SECULAR, DEMOCRATIC REPUBLIC \n",
    "                     and to secure to all its citizens\"\"\"\n",
    "                  \n",
    "print(s)"
   ]
  },
  {
   "cell_type": "code",
   "execution_count": null,
   "metadata": {},
   "outputs": [],
   "source": []
  }
 ],
 "metadata": {
  "kernelspec": {
   "display_name": "Python 3",
   "language": "python",
   "name": "python3"
  },
  "language_info": {
   "codemirror_mode": {
    "name": "ipython",
    "version": 3
   },
   "file_extension": ".py",
   "mimetype": "text/x-python",
   "name": "python",
   "nbconvert_exporter": "python",
   "pygments_lexer": "ipython3",
   "version": "3.7.6"
  },
  "varInspector": {
   "cols": {
    "lenName": 16,
    "lenType": 16,
    "lenVar": 40
   },
   "kernels_config": {
    "python": {
     "delete_cmd_postfix": "",
     "delete_cmd_prefix": "del ",
     "library": "var_list.py",
     "varRefreshCmd": "print(var_dic_list())"
    },
    "r": {
     "delete_cmd_postfix": ") ",
     "delete_cmd_prefix": "rm(",
     "library": "var_list.r",
     "varRefreshCmd": "cat(var_dic_list()) "
    }
   },
   "types_to_exclude": [
    "module",
    "function",
    "builtin_function_or_method",
    "instance",
    "_Feature"
   ],
   "window_display": false
  }
 },
 "nbformat": 4,
 "nbformat_minor": 4
}
